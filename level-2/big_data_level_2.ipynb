{
  "nbformat": 4,
  "nbformat_minor": 0,
  "metadata": {
    "kernelspec": {
      "display_name": "Python 3",
      "language": "python",
      "name": "python3"
    },
    "language_info": {
      "codemirror_mode": {
        "name": "ipython",
        "version": 3
      },
      "file_extension": ".py",
      "mimetype": "text/x-python",
      "name": "python",
      "nbconvert_exporter": "python",
      "pygments_lexer": "ipython3",
      "version": "3.7.3"
    },
    "colab": {
      "name": "big_data_level_2.ipynb",
      "provenance": [],
      "collapsed_sections": []
    }
  },
  "cells": [
    {
      "cell_type": "code",
      "metadata": {
        "id": "SG6t-xh6bSFU",
        "colab_type": "code",
        "colab": {}
      },
      "source": [
        "# Install Java, Spark, and Findspark\n",
        "!apt-get install openjdk-8-jdk-headless -qq > /dev/null\n",
        "!wget -q  http://www-us.apache.org/dist/spark/spark-2.4.6/spark-2.4.6-bin-hadoop2.7.tgz\n",
        "!tar xf spark-2.4.6-bin-hadoop2.7.tgz\n",
        "!pip install -q findspark\n",
        "# Set Environment Variables\n",
        "import os\n",
        "os.environ[\"JAVA_HOME\"] = \"/usr/lib/jvm/java-8-openjdk-amd64\"\n",
        "os.environ[\"SPARK_HOME\"] = \"/content/spark-2.4.6-bin-hadoop2.7\"\n",
        "# Start a SparkSession\n",
        "import findspark\n",
        "findspark.init()\n"
      ],
      "execution_count": 32,
      "outputs": []
    },
    {
      "cell_type": "code",
      "metadata": {
        "id": "zucREKMKKO9u",
        "colab_type": "code",
        "colab": {
          "base_uri": "https://localhost:8080/",
          "height": 204
        },
        "outputId": "a8fb0e91-914c-41c2-974a-d9310717894c"
      },
      "source": [
        "!wget https://jdbc.postgresql.org/download/postgresql-42.2.9.jar"
      ],
      "execution_count": null,
      "outputs": [
        {
          "output_type": "stream",
          "text": [
            "--2020-08-07 00:32:58--  https://jdbc.postgresql.org/download/postgresql-42.2.9.jar\n",
            "Resolving jdbc.postgresql.org (jdbc.postgresql.org)... 72.32.157.228, 2001:4800:3e1:1::228\n",
            "Connecting to jdbc.postgresql.org (jdbc.postgresql.org)|72.32.157.228|:443... connected.\n",
            "HTTP request sent, awaiting response... 200 OK\n",
            "Length: 914037 (893K) [application/java-archive]\n",
            "Saving to: ‘postgresql-42.2.9.jar.2’\n",
            "\n",
            "postgresql-42.2.9.j 100%[===================>] 892.61K  1.43MB/s    in 0.6s    \n",
            "\n",
            "2020-08-07 00:33:00 (1.43 MB/s) - ‘postgresql-42.2.9.jar.2’ saved [914037/914037]\n",
            "\n"
          ],
          "name": "stdout"
        }
      ]
    },
    {
      "cell_type": "code",
      "metadata": {
        "id": "MXQAjCnaC-4O",
        "colab_type": "code",
        "colab": {}
      },
      "source": [
        "from pyspark.sql import SparkSession\n",
        "spark = SparkSession.builder.appName(\"Level2\").config(\"spark.driver.extraClassPath\",\"/content/postgresql-42.2.9.jar\").getOrCreate()"
      ],
      "execution_count": 33,
      "outputs": []
    },
    {
      "cell_type": "code",
      "metadata": {
        "id": "8w50cOA8JvWk",
        "colab_type": "code",
        "colab": {
          "base_uri": "https://localhost:8080/",
          "height": 479
        },
        "outputId": "72a6fe3d-246e-4734-f407-8fd413465653"
      },
      "source": [
        "# Read in data from S3 files\n",
        "from pyspark import SparkFiles\n",
        "url = \"https://s3.amazonaws.com/amazon-reviews-pds/tsv/amazon_reviews_us_Lawn_and_Garden_v1_00.tsv.gz\"\n",
        "spark.sparkContext.addFile(url)\n",
        "lawn_gard_df = spark.read.csv(SparkFiles.get(\"amazon_reviews_us_Lawn_and_Garden_v1_00.tsv.gz\"), sep=\"\\t\", header=True)\n",
        "lawn_gard_df.show()"
      ],
      "execution_count": 34,
      "outputs": [
        {
          "output_type": "stream",
          "text": [
            "+-----------+-----------+--------------+----------+--------------+--------------------+----------------+-----------+-------------+-----------+----+-----------------+--------------------+--------------------+-----------+\n",
            "|marketplace|customer_id|     review_id|product_id|product_parent|       product_title|product_category|star_rating|helpful_votes|total_votes|vine|verified_purchase|     review_headline|         review_body|review_date|\n",
            "+-----------+-----------+--------------+----------+--------------+--------------------+----------------+-----------+-------------+-----------+----+-----------------+--------------------+--------------------+-----------+\n",
            "|         US|   32787517| RED72VWWCOS7S|B008HDQYLQ|     348668413|Garden Weasel Gar...| Lawn and Garden|          1|            2|          8|   N|                Y|            One Star|I don't hate the ...| 2015-08-31|\n",
            "|         US|   16374060| RZHWQ208LTEPV|B005OBZBD6|     264704759|10 Foot Mc4 Solar...| Lawn and Garden|          5|            0|          0|   N|                Y|          Five Stars|        worked great| 2015-08-31|\n",
            "|         US|    9984817|R37LBC3XAVLYOO|B00RQL8U2G|      95173602|GE String A Long ...| Lawn and Garden|          5|            4|          5|   N|                Y|just what i neede...|just what i neede...| 2015-08-31|\n",
            "|         US|   12635190|R3L7XJMA0MVJWC|B0081SBO4Y|     835659279|Key Pair Lawn Wit...| Lawn and Garden|          5|            0|          0|   N|                Y|                Keys|Needed replacemen...| 2015-08-31|\n",
            "|         US|   43905102|R2I2GHSI7T1UBN|B008E6OK3U|     539243347|Zodiac R0502300 L...| Lawn and Garden|          1|            5|          6|   N|                Y|       Too expensive|Assuming you don'...| 2015-08-31|\n",
            "|         US|   52596997|R2GFFKHK4I6VMX|B00W6NTULY|     337446474|Hirts Gardens Swe...| Lawn and Garden|          5|            0|          0|   N|                Y|                Nice|Beautifully packa...| 2015-08-31|\n",
            "|         US|   43871104|R1R0UDX2XAN1S4|B00GXUMYKA|     468857193|AGPtEK 12 PCS Smo...| Lawn and Garden|          4|            0|          0|   N|                Y|These were pretty...|These were pretty...| 2015-08-31|\n",
            "|         US|   11346008|R22C8FMBSTFRY8|B005EIX8JS|     125753094|Design Toscano Ea...| Lawn and Garden|          5|            2|          2|   N|                Y|Kids love it. WIs...|Its in the center...| 2015-08-31|\n",
            "|         US|   49206471|R118NNIQ75XPGO|B000HJBKMQ|     834273114|TERRO T300 Liquid...| Lawn and Garden|          3|            0|          0|   N|                Y|      A little messy|The ants were att...| 2015-08-31|\n",
            "|         US|   37596267|R30HYXHZQ49621|B004LY59V6|     612086079|BLACK+DECKER LBXR...| Lawn and Garden|          2|            0|          0|   N|                Y|Does not hold a c...|This is advertise...| 2015-08-31|\n",
            "|         US|   31554283|R3EMLKY0GF1E90|B00CAVM85M|     280334010|Reach 'n Spray Pe...| Lawn and Garden|          5|            0|          0|   N|                Y|          Five Stars|Well made product...| 2015-08-31|\n",
            "|         US|   43211735|R23BX7EGJMGQJR|B00DP6X1LG|     233116679|Puro-Kleen Ultra-...| Lawn and Garden|          5|            1|          2|   N|                Y|It's easy to cut ...|I used this for a...| 2015-08-31|\n",
            "|         US|   25705116|R2Z4B6SDEAZF6E|B00025H2PY|     592807498|Diatomaceous Eart...| Lawn and Garden|          5|            0|          0|   N|                Y|          Five Stars|Great stuff. Gets...| 2015-08-31|\n",
            "|         US|   47041108|R35289PGJERP5J|B0079GHJXY|     408290044|Perky-Pet 312C Pa...| Lawn and Garden|          5|            0|          0|   N|                Y|          Five Stars|   Very good quality| 2015-08-31|\n",
            "|         US|    1534667|R39BPRMDKKIZL2|B004HFJ762|     404737140|Crossbow Dow Spec...| Lawn and Garden|          1|            4|          6|   N|                Y|Wrong Product- No...|This product was ...| 2015-08-31|\n",
            "|         US|   52287759| R6WFPPBS1DZMG|B00004RAGL|     773636542|Apex REM 15 15-Fo...| Lawn and Garden|          5|            0|          0|   N|                Y|dehumidifier drai...|the hose worked w...| 2015-08-31|\n",
            "|         US|   37010286| RK72M0ZBV9YLS|B010PWBNNK|     461072629|Elucto Electric B...| Lawn and Garden|          1|            3|          3|   N|                Y|   not easy it seems|I haven't killed ...| 2015-08-31|\n",
            "|         US|   30576559| RX5G150AUWRDJ|B00T77AWY6|     365662076|Ohuhu® 100 Ft Exp...| Lawn and Garden|          1|            0|          0|   N|                Y|          Five Stars|I m very disappoi...| 2015-08-31|\n",
            "|         US|   10291713|R1TMSZWIT21A31|B000UJH6HQ|     228393894|Toro 53746 Drip B...| Lawn and Garden|          3|            1|          2|   N|                Y|     Could be better|this is the fourt...| 2015-08-31|\n",
            "|         US|   50656780|R2FURVPW763CIM|B000HJBKMQ|     834273114|TERRO T300 Liquid...| Lawn and Garden|          5|            0|          0|   N|                Y|Sugar Ants are ho...|Best thing you ca...| 2015-08-31|\n",
            "+-----------+-----------+--------------+----------+--------------+--------------------+----------------+-----------+-------------+-----------+----+-----------------+--------------------+--------------------+-----------+\n",
            "only showing top 20 rows\n",
            "\n"
          ],
          "name": "stdout"
        }
      ]
    },
    {
      "cell_type": "code",
      "metadata": {
        "id": "N-Ead1NaL-D3",
        "colab_type": "code",
        "colab": {
          "base_uri": "https://localhost:8080/",
          "height": 34
        },
        "outputId": "8ddcbce8-62b4-44b4-b57a-8744c5586bb0"
      },
      "source": [
        "# Count rows - before cleanup\n",
        "print(\"Total product review count before cleanup: \",lawn_gard_df.count() )"
      ],
      "execution_count": 35,
      "outputs": [
        {
          "output_type": "stream",
          "text": [
            "Total product review count before cleanup:  2557288\n"
          ],
          "name": "stdout"
        }
      ]
    },
    {
      "cell_type": "code",
      "metadata": {
        "id": "8LbQ3HJiC9rl",
        "colab_type": "code",
        "colab": {
          "base_uri": "https://localhost:8080/",
          "height": 479
        },
        "outputId": "497f13de-a271-4c42-f7d5-fe8e1335f1fe"
      },
      "source": [
        "# Drop null values\n",
        "lawn_gard_df = lawn_gard_df.dropna()\n",
        "lawn_gard_df.show()"
      ],
      "execution_count": 36,
      "outputs": [
        {
          "output_type": "stream",
          "text": [
            "+-----------+-----------+--------------+----------+--------------+--------------------+----------------+-----------+-------------+-----------+----+-----------------+--------------------+--------------------+-----------+\n",
            "|marketplace|customer_id|     review_id|product_id|product_parent|       product_title|product_category|star_rating|helpful_votes|total_votes|vine|verified_purchase|     review_headline|         review_body|review_date|\n",
            "+-----------+-----------+--------------+----------+--------------+--------------------+----------------+-----------+-------------+-----------+----+-----------------+--------------------+--------------------+-----------+\n",
            "|         US|   32787517| RED72VWWCOS7S|B008HDQYLQ|     348668413|Garden Weasel Gar...| Lawn and Garden|          1|            2|          8|   N|                Y|            One Star|I don't hate the ...| 2015-08-31|\n",
            "|         US|   16374060| RZHWQ208LTEPV|B005OBZBD6|     264704759|10 Foot Mc4 Solar...| Lawn and Garden|          5|            0|          0|   N|                Y|          Five Stars|        worked great| 2015-08-31|\n",
            "|         US|    9984817|R37LBC3XAVLYOO|B00RQL8U2G|      95173602|GE String A Long ...| Lawn and Garden|          5|            4|          5|   N|                Y|just what i neede...|just what i neede...| 2015-08-31|\n",
            "|         US|   12635190|R3L7XJMA0MVJWC|B0081SBO4Y|     835659279|Key Pair Lawn Wit...| Lawn and Garden|          5|            0|          0|   N|                Y|                Keys|Needed replacemen...| 2015-08-31|\n",
            "|         US|   43905102|R2I2GHSI7T1UBN|B008E6OK3U|     539243347|Zodiac R0502300 L...| Lawn and Garden|          1|            5|          6|   N|                Y|       Too expensive|Assuming you don'...| 2015-08-31|\n",
            "|         US|   52596997|R2GFFKHK4I6VMX|B00W6NTULY|     337446474|Hirts Gardens Swe...| Lawn and Garden|          5|            0|          0|   N|                Y|                Nice|Beautifully packa...| 2015-08-31|\n",
            "|         US|   43871104|R1R0UDX2XAN1S4|B00GXUMYKA|     468857193|AGPtEK 12 PCS Smo...| Lawn and Garden|          4|            0|          0|   N|                Y|These were pretty...|These were pretty...| 2015-08-31|\n",
            "|         US|   11346008|R22C8FMBSTFRY8|B005EIX8JS|     125753094|Design Toscano Ea...| Lawn and Garden|          5|            2|          2|   N|                Y|Kids love it. WIs...|Its in the center...| 2015-08-31|\n",
            "|         US|   49206471|R118NNIQ75XPGO|B000HJBKMQ|     834273114|TERRO T300 Liquid...| Lawn and Garden|          3|            0|          0|   N|                Y|      A little messy|The ants were att...| 2015-08-31|\n",
            "|         US|   37596267|R30HYXHZQ49621|B004LY59V6|     612086079|BLACK+DECKER LBXR...| Lawn and Garden|          2|            0|          0|   N|                Y|Does not hold a c...|This is advertise...| 2015-08-31|\n",
            "|         US|   31554283|R3EMLKY0GF1E90|B00CAVM85M|     280334010|Reach 'n Spray Pe...| Lawn and Garden|          5|            0|          0|   N|                Y|          Five Stars|Well made product...| 2015-08-31|\n",
            "|         US|   43211735|R23BX7EGJMGQJR|B00DP6X1LG|     233116679|Puro-Kleen Ultra-...| Lawn and Garden|          5|            1|          2|   N|                Y|It's easy to cut ...|I used this for a...| 2015-08-31|\n",
            "|         US|   25705116|R2Z4B6SDEAZF6E|B00025H2PY|     592807498|Diatomaceous Eart...| Lawn and Garden|          5|            0|          0|   N|                Y|          Five Stars|Great stuff. Gets...| 2015-08-31|\n",
            "|         US|   47041108|R35289PGJERP5J|B0079GHJXY|     408290044|Perky-Pet 312C Pa...| Lawn and Garden|          5|            0|          0|   N|                Y|          Five Stars|   Very good quality| 2015-08-31|\n",
            "|         US|    1534667|R39BPRMDKKIZL2|B004HFJ762|     404737140|Crossbow Dow Spec...| Lawn and Garden|          1|            4|          6|   N|                Y|Wrong Product- No...|This product was ...| 2015-08-31|\n",
            "|         US|   52287759| R6WFPPBS1DZMG|B00004RAGL|     773636542|Apex REM 15 15-Fo...| Lawn and Garden|          5|            0|          0|   N|                Y|dehumidifier drai...|the hose worked w...| 2015-08-31|\n",
            "|         US|   37010286| RK72M0ZBV9YLS|B010PWBNNK|     461072629|Elucto Electric B...| Lawn and Garden|          1|            3|          3|   N|                Y|   not easy it seems|I haven't killed ...| 2015-08-31|\n",
            "|         US|   30576559| RX5G150AUWRDJ|B00T77AWY6|     365662076|Ohuhu® 100 Ft Exp...| Lawn and Garden|          1|            0|          0|   N|                Y|          Five Stars|I m very disappoi...| 2015-08-31|\n",
            "|         US|   10291713|R1TMSZWIT21A31|B000UJH6HQ|     228393894|Toro 53746 Drip B...| Lawn and Garden|          3|            1|          2|   N|                Y|     Could be better|this is the fourt...| 2015-08-31|\n",
            "|         US|   50656780|R2FURVPW763CIM|B000HJBKMQ|     834273114|TERRO T300 Liquid...| Lawn and Garden|          5|            0|          0|   N|                Y|Sugar Ants are ho...|Best thing you ca...| 2015-08-31|\n",
            "+-----------+-----------+--------------+----------+--------------+--------------------+----------------+-----------+-------------+-----------+----+-----------------+--------------------+--------------------+-----------+\n",
            "only showing top 20 rows\n",
            "\n"
          ],
          "name": "stdout"
        }
      ]
    },
    {
      "cell_type": "code",
      "metadata": {
        "id": "9d4AxCdPPnGa",
        "colab_type": "code",
        "colab": {
          "base_uri": "https://localhost:8080/",
          "height": 34
        },
        "outputId": "6066fbff-d29a-41e4-d839-c897efe44b1a"
      },
      "source": [
        "# Count rows - after cleanup\n",
        "print(\"Number of product reviews after cleanup: \",lawn_gard_df.count())"
      ],
      "execution_count": 37,
      "outputs": [
        {
          "output_type": "stream",
          "text": [
            "Number of product reviews after cleanup:  2557005\n"
          ],
          "name": "stdout"
        }
      ]
    },
    {
      "cell_type": "code",
      "metadata": {
        "id": "OPemA-13JvWo",
        "colab_type": "code",
        "colab": {
          "base_uri": "https://localhost:8080/",
          "height": 306
        },
        "outputId": "67fb96cb-1857-4dbc-f379-009081d8b6bb"
      },
      "source": [
        "# Get Product vote info \n",
        "product_voter_df = lawn_gard_df.select([\"star_rating\", \"helpful_votes\", \"total_votes\", \"vine\", \"verified_purchase\"])\n",
        "product_voter_df.show(10)\n",
        "product_voter_df.count()"
      ],
      "execution_count": 38,
      "outputs": [
        {
          "output_type": "stream",
          "text": [
            "+-----------+-------------+-----------+----+-----------------+\n",
            "|star_rating|helpful_votes|total_votes|vine|verified_purchase|\n",
            "+-----------+-------------+-----------+----+-----------------+\n",
            "|          1|            2|          8|   N|                Y|\n",
            "|          5|            0|          0|   N|                Y|\n",
            "|          5|            4|          5|   N|                Y|\n",
            "|          5|            0|          0|   N|                Y|\n",
            "|          1|            5|          6|   N|                Y|\n",
            "|          5|            0|          0|   N|                Y|\n",
            "|          4|            0|          0|   N|                Y|\n",
            "|          5|            2|          2|   N|                Y|\n",
            "|          3|            0|          0|   N|                Y|\n",
            "|          2|            0|          0|   N|                Y|\n",
            "+-----------+-------------+-----------+----+-----------------+\n",
            "only showing top 10 rows\n",
            "\n"
          ],
          "name": "stdout"
        },
        {
          "output_type": "execute_result",
          "data": {
            "text/plain": [
              "2557005"
            ]
          },
          "metadata": {
            "tags": []
          },
          "execution_count": 38
        }
      ]
    },
    {
      "cell_type": "code",
      "metadata": {
        "id": "0y95w9leSRoB",
        "colab_type": "code",
        "colab": {
          "base_uri": "https://localhost:8080/",
          "height": 68
        },
        "outputId": "b4a4dbe2-0b50-4aa3-d8bd-f259827f9258"
      },
      "source": [
        "# Get total verified and Unverified purchases\n",
        "total_verified_df = lawn_gard_df.filter(lawn_gard_df['verified_purchase'] == 'Y')\n",
        "total_unverified_df = lawn_gard_df.filter(lawn_gard_df['verified_purchase'] == 'N')\n",
        "\n",
        "print(\"Total verified purchases: \",total_varified_df.count())\n",
        "print(\"Total Unverified purchases: \",total_unvarified_df.count())\n",
        "print(\"% Ratio of Unverified to verified purchase reviews: \",float(total_unvarified_df.count()/total_varified_df.count()))"
      ],
      "execution_count": 39,
      "outputs": [
        {
          "output_type": "stream",
          "text": [
            "Total verified purchases:  2251611\n",
            "Total Unverified purchases:  305394\n",
            "% Ratio of Unverified to verified purchase reviews:  0.1356335530426881\n"
          ],
          "name": "stdout"
        }
      ]
    },
    {
      "cell_type": "code",
      "metadata": {
        "id": "5d4Z2cZsLIh2",
        "colab_type": "code",
        "colab": {
          "base_uri": "https://localhost:8080/",
          "height": 326
        },
        "outputId": "104cc070-5440-4eb2-a5f2-bd65011c2fc4"
      },
      "source": [
        "# Get the products with 10 plus total votes\n",
        "total_vote_df = lawn_gard_df.filter(lawn_gard_df['total_votes'] >= 10)\n",
        "total_vote_df.show(10)\n",
        "print(\"Number of products with reviews with at least 10 votes: \",total_vote_df.count())"
      ],
      "execution_count": 40,
      "outputs": [
        {
          "output_type": "stream",
          "text": [
            "+-----------+-----------+--------------+----------+--------------+--------------------+----------------+-----------+-------------+-----------+----+-----------------+--------------------+--------------------+-----------+\n",
            "|marketplace|customer_id|     review_id|product_id|product_parent|       product_title|product_category|star_rating|helpful_votes|total_votes|vine|verified_purchase|     review_headline|         review_body|review_date|\n",
            "+-----------+-----------+--------------+----------+--------------+--------------------+----------------+-----------+-------------+-----------+----+-----------------+--------------------+--------------------+-----------+\n",
            "|         US|   33399595| R6J125A9S5H1G|B00OMSJ9WG|     583972217|10x10 V-Series 2 ...| Lawn and Garden|          5|            9|         10|   N|                Y|Straight leg cano...|We bought 2 of th...| 2015-08-31|\n",
            "|         US|   12020967|R3SJT43TE6IY0O|B00S96Q2UO|     997068254|Heat Resistant Si...| Lawn and Garden|          3|           11|         13|   N|                N|NO hot spots........|These heat resist...| 2015-08-31|\n",
            "|         US|   42142471|R3CIYLO59XNDVJ|B002ASAB6I|      13220966|Timber Tuff TMB-4...| Lawn and Garden|          5|           19|         19|   N|                Y|MUST READ IF ON T...|IMPROVED VERSION!...| 2015-08-31|\n",
            "|         US|   39823685| RQQ3KVTU5TJ4I|B00005A3L1|     436617004|Bounty Hunter TK4...| Lawn and Garden|          5|           24|         29|   N|                Y|Payed for itself ...|I purchase this m...| 2015-08-31|\n",
            "|         US|   35875101|R3FELXWV9T5CWE|B00VQVPRH8|     733961147|Multi-Purpose Boo...| Lawn and Garden|          2|           22|         24|   N|                Y|Not worth this pr...|It is just a tray...| 2015-08-31|\n",
            "|         US|   15323081| ROBYK6EZYK398|B00GOH6WVY|     746010001|Root Naturally Az...| Lawn and Garden|          5|           29|         30|   N|                Y|Really amazing re...|Mixed it with fis...| 2015-08-31|\n",
            "|         US|   13866645|R2RKCSAG6GBA4A|B00O97CPIK|     860333862|Rid Tech Ultrason...| Lawn and Garden|          1|            8|         28|   N|                Y|This product does...|This product does...| 2015-08-31|\n",
            "|         US|   46178267|R2YVBBR6NXIA4V|B012VQUQQ8|     108738594|Insect Repellent ...| Lawn and Garden|          5|           25|         28|   N|                N|No Burn, No Itch,...|[[VIDEOID:2c6e5a6...| 2015-08-31|\n",
            "|         US|   15945950|R1SNY6KFAWDJBZ|B002YJJJQ6|     350442055|Behrens Oval Stee...| Lawn and Garden|          2|            9|         11|   N|                Y|I bought this thi...|Waaaaaay smaller ...| 2015-08-31|\n",
            "|         US|   51910505|R33W0IA45W0C6G|B00YG1OEQ0|     686449329|3x5 American Cott...| Lawn and Garden|          1|           10|         10|   N|                Y|THIS FLAG IS NOT ...|This flag is not ...| 2015-08-31|\n",
            "+-----------+-----------+--------------+----------+--------------+--------------------+----------------+-----------+-------------+-----------+----+-----------------+--------------------+--------------------+-----------+\n",
            "only showing top 10 rows\n",
            "\n",
            "Number of products with reviews with at least 10 votes:  125874\n"
          ],
          "name": "stdout"
        }
      ]
    },
    {
      "cell_type": "code",
      "metadata": {
        "id": "nYf122AKQuFM",
        "colab_type": "code",
        "colab": {
          "base_uri": "https://localhost:8080/",
          "height": 34
        },
        "outputId": "15090e7c-01dd-4aa8-9325-7df8b4d47b94"
      },
      "source": [
        "# Percentage of products with 10 plus total votes for the review\n",
        "print(\"Percentage of products with 10 plus reviews: \",float(total_vote_df.count()/lawn_gard_df.count()),\"%\")"
      ],
      "execution_count": 41,
      "outputs": [
        {
          "output_type": "stream",
          "text": [
            "Percentage of products with 10 plus reviews:  0.049227123138202704 %\n"
          ],
          "name": "stdout"
        }
      ]
    },
    {
      "cell_type": "code",
      "metadata": {
        "id": "vG4pqD6UJvWr",
        "colab_type": "code",
        "colab": {
          "base_uri": "https://localhost:8080/",
          "height": 377
        },
        "outputId": "6a77f653-582e-4ef7-b614-d410fc75d811"
      },
      "source": [
        "# Describe stats for paid and unpaid products \n",
        "from pyspark.sql.functions import col, avg\n",
        "paid_df = lawn_gard_df.filter(lawn_gard_df['vine']== 'Y')\n",
        "unpaid_df = lawn_gard_df.filter(lawn_gard_df['vine']== 'N')\n",
        "\n",
        "paid_df.describe().show()\n",
        "unpaid_df.describe().show()"
      ],
      "execution_count": 42,
      "outputs": [
        {
          "output_type": "stream",
          "text": [
            "+-------+-----------+--------------------+--------------+----------+-------------------+--------------------+----------------+-----------------+------------------+------------------+-----+-----------------+--------------------+--------------------+-----------+\n",
            "|summary|marketplace|         customer_id|     review_id|product_id|     product_parent|       product_title|product_category|      star_rating|     helpful_votes|       total_votes| vine|verified_purchase|     review_headline|         review_body|review_date|\n",
            "+-------+-----------+--------------------+--------------+----------+-------------------+--------------------+----------------+-----------------+------------------+------------------+-----+-----------------+--------------------+--------------------+-----------+\n",
            "|  count|      13454|               13454|         13454|     13454|              13454|               13454|           13454|            13454|             13454|             13454|13454|            13454|               13454|               13454|      13454|\n",
            "|   mean|       null|4.0954081251449384E7|          null|      null|5.074572449275308E8|                null|            null|4.141370596105247|2.9071651553441358| 3.510480154600862| null|             null|                null|                null|       null|\n",
            "| stddev|       null|1.2849717934906457E7|          null|      null|2.913488896656647E8|                null|            null| 0.98826509103149| 17.92362002240136|19.080724231239163| null|             null|                null|                null|       null|\n",
            "|    min|         US|            10044936|R100Q8WPKHEE17|B00004ZAVI|          100001885|3M Garden Genius ...| Lawn and Garden|                1|                 0|                 0|    Y|                N|\"All you can eat\"...|&#34;Derived from...| 2009-03-24|\n",
            "|    max|         US|             9944883| RZZR0HC19L9HQ|B010QVQKJ2|          999221604|iPower 4 6 8 inch...| Lawn and Garden|                5|                98|                99|    Y|                Y|yes they do indee...|இ Fuzzy Wuzzy's S...| 2015-08-31|\n",
            "+-------+-----------+--------------------+--------------+----------+-------------------+--------------------+----------------+-----------------+------------------+------------------+-----+-----------------+--------------------+--------------------+-----------+\n",
            "\n",
            "+-------+-----------+--------------------+--------------+--------------------+--------------------+----------------------+----------------+------------------+------------------+-----------------+-------+-----------------+--------------------+--------------------+-----------+\n",
            "|summary|marketplace|         customer_id|     review_id|          product_id|      product_parent|         product_title|product_category|       star_rating|     helpful_votes|      total_votes|   vine|verified_purchase|     review_headline|         review_body|review_date|\n",
            "+-------+-----------+--------------------+--------------+--------------------+--------------------+----------------------+----------------+------------------+------------------+-----------------+-------+-----------------+--------------------+--------------------+-----------+\n",
            "|  count|    2543551|             2543551|       2543551|             2543551|             2543551|               2543551|         2543551|           2543551|           2543551|          2543551|2543551|          2543551|             2543551|             2543551|    2543551|\n",
            "|   mean|       null|2.8691685062479187E7|          null| 5.546940814737113E9|4.9796577859407735E8|          2.24128265E7|            null| 4.092916163269382|2.0431723209009767|2.460005323266567|   null|             null|  1429061.7022727272|  209683.11320754717|       null|\n",
            "| stddev|       null|1.5269180832884334E7|          null|3.5584258942622313E9|2.8839635239462185E8|  2.5391421537860446E7|            null|1.3699624747324441|14.568271607712688|15.36163823595431|   null|             null|1.3158590298059342E7|  1526222.9488685292|       null|\n",
            "|    min|         US|            10000009|R10001EZRM7QD7|          0618307354|           100001885|  !!Final Clearance...| Lawn and Garden|                 1|                 0|                0|      N|                N|              \u001a\u001a\u001a\u001a\u001a\u001a|\b received the pr...| 1999-11-27|\n",
            "|    max|         US|             9999997| RZZZX5XP2S3X6|          B01JPMYFSG|           999993377|【SALE】Adeco Naval...| Lawn and Garden|                 5|                99|              995|      N|                Y|                  🙌|🙌🙌🙌🙌 holy gra...| 2015-08-31|\n",
            "+-------+-----------+--------------------+--------------+--------------------+--------------------+----------------------+----------------+------------------+------------------+-----------------+-------+-----------------+--------------------+--------------------+-----------+\n",
            "\n"
          ],
          "name": "stdout"
        }
      ]
    },
    {
      "cell_type": "code",
      "metadata": {
        "id": "Tx5b2XzyJvWu",
        "colab_type": "code",
        "colab": {
          "base_uri": "https://localhost:8080/",
          "height": 51
        },
        "outputId": "cc2d0112-14e4-46d5-e078-6e1ed67d96dd"
      },
      "source": [
        "#  Determine paid and five star paid reviews \n",
        "paid_number = paid_df.count()\n",
        "paid_five_star_number = paid_df[paid_df['star_rating']== 5].count()\n",
        "\n",
        "print(\"Paid Review count: \",paid_number)\n",
        "print(\"Paid Five Star Review count: \",paid_five_star_number)"
      ],
      "execution_count": 43,
      "outputs": [
        {
          "output_type": "stream",
          "text": [
            "Paid Review count:  13454\n",
            "Paid Five Star Review count:  6006\n"
          ],
          "name": "stdout"
        }
      ]
    },
    {
      "cell_type": "code",
      "metadata": {
        "id": "yMb4ksZZRRKG",
        "colab_type": "code",
        "colab": {
          "base_uri": "https://localhost:8080/",
          "height": 34
        },
        "outputId": "102b405a-5830-40a1-8887-eda39095c188"
      },
      "source": [
        "#  Determine the percentage of five-star reviews among Vine reviews\n",
        "percentage_five_star_vine = paid_five_star_number/paid_number\n",
        "\n",
        "print(\"% of five-star reviews among Vine reviews\",float(percentage_five_star_vine),\"%\")"
      ],
      "execution_count": 44,
      "outputs": [
        {
          "output_type": "stream",
          "text": [
            "% of five-star reviews among Vine reviews 0.4464099895941727 %\n"
          ],
          "name": "stdout"
        }
      ]
    },
    {
      "cell_type": "code",
      "metadata": {
        "id": "OAjnd6fHJvWw",
        "colab_type": "code",
        "colab": {
          "base_uri": "https://localhost:8080/",
          "height": 51
        },
        "outputId": "31f14701-eff3-4faf-f32d-815ca9f71006"
      },
      "source": [
        "#  Determine the percentage of five-star reviews among non-Vine reviews.\n",
        "unpaid_number = unpaid_df.count()\n",
        "unpaid_five_star_number = unpaid_df[unpaid_df['star_rating']== 5].count()\n",
        "\n",
        "print(\"Unpaid Review count: \",paid_number)\n",
        "print(\"Unpaid Five Star Review count: \",paid_five_star_number)"
      ],
      "execution_count": 45,
      "outputs": [
        {
          "output_type": "stream",
          "text": [
            "Unpaid Review count:  13454\n",
            "Unpaid Five Star Review count:  6006\n"
          ],
          "name": "stdout"
        }
      ]
    },
    {
      "cell_type": "code",
      "metadata": {
        "id": "-dYuhacX0x8h",
        "colab_type": "code",
        "colab": {
          "base_uri": "https://localhost:8080/",
          "height": 34
        },
        "outputId": "12ff9394-89a1-47af-9ec8-83bc3b91e0e7"
      },
      "source": [
        "# Determine the percentage of five-star reviews among non-Vine reviews.\n",
        "percentage_five_star_non_vine = unpaid_five_star_number/unpaid_number\n",
        "print(\"% of five-star unpaid reviews among non Vine reviews\", float(percentage_five_star_non_vine),\"%\")"
      ],
      "execution_count": 46,
      "outputs": [
        {
          "output_type": "stream",
          "text": [
            "% of five-star unpaid reviews among non Vine reviews 0.605333645757447 %\n"
          ],
          "name": "stdout"
        }
      ]
    }
  ]
}